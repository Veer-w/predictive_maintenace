{
 "cells": [
  {
   "cell_type": "code",
   "execution_count": 1,
   "id": "8cc86b27",
   "metadata": {},
   "outputs": [],
   "source": [
    "# Importing Libraries\n",
    "import matplotlib.pyplot as plt\n",
    "import pandas as pd\n",
    "from sklearn.model_selection import train_test_split\n",
    "from sklearn.ensemble import RandomForestClassifier\n",
    "from sklearn.metrics import accuracy_score, classification_report, confusion_matrix\n",
    "from sklearn.model_selection import cross_val_score"
   ]
  },
  {
   "cell_type": "code",
   "execution_count": 2,
   "id": "82c77459",
   "metadata": {},
   "outputs": [],
   "source": [
    "# Data Pre-processing\n",
    "\n",
    "sensor_df = pd.read_csv('sensor_data!.csv')\n",
    "failure_df = pd.read_csv('failure_data!.csv')\n",
    "\n",
    "sensor_df = sensor_df.dropna()\n",
    "failure_df = failure_df.dropna()\n",
    "\n",
    "sensor_df = sensor_df.drop_duplicates()\n",
    "failure_df = failure_df.drop_duplicates()\n",
    "\n",
    "sensor_df['Date'] = pd.to_datetime(sensor_df['Date'])\n",
    "failure_df['Date'] = pd.to_datetime(failure_df['Date'])\n",
    "\n",
    "sensor_df.rename(columns={'Date': 'Sensor_Date'}, inplace=True)\n",
    "failure_df.rename(columns={'Date': 'Failure_Date'}, inplace=True)\n",
    "\n",
    "merged_data = sensor_df.merge(failure_df, on='Equipment_ID', how='inner')\n"
   ]
  },
  {
   "cell_type": "code",
   "execution_count": 4,
   "id": "59302898",
   "metadata": {},
   "outputs": [],
   "source": [
    "# One-hot encoding \n",
    "categorical_columns = ['Equipment_ID', 'Maintenance_Type', 'Issue_Description']\n",
    "merged_data_encoded = pd.get_dummies(merged_data, columns=categorical_columns)"
   ]
  },
  {
   "cell_type": "code",
   "execution_count": 5,
   "id": "f3a8a3aa",
   "metadata": {},
   "outputs": [],
   "source": [
    "# Converting the Date columns from categorical to numeical\n",
    "merged_data_encoded['Sensor_Date'] = pd.to_datetime(merged_data_encoded['Sensor_Date'])\n",
    "merged_data_encoded['Failure_Date'] = pd.to_datetime(merged_data_encoded['Failure_Date'])\n",
    "\n",
    "merged_data_encoded['Sensor_Year'] = merged_data_encoded['Sensor_Date'].dt.year\n",
    "merged_data_encoded['Sensor_Month'] = merged_data_encoded['Sensor_Date'].dt.month\n",
    "merged_data_encoded['Sensor_Day'] = merged_data_encoded['Sensor_Date'].dt.day\n",
    "merged_data_encoded['Failure_Year'] = merged_data_encoded['Failure_Date'].dt.year\n",
    "merged_data_encoded['Failure_Month'] = merged_data_encoded['Failure_Date'].dt.month\n",
    "merged_data_encoded['Failure_Day'] = merged_data_encoded['Failure_Date'].dt.day\n",
    "\n",
    "merged_data_encoded = merged_data_encoded.drop(columns=['Sensor_Date', 'Failure_Date'])\n"
   ]
  },
  {
   "cell_type": "code",
   "execution_count": 6,
   "id": "623699d3",
   "metadata": {},
   "outputs": [
    {
     "name": "stdout",
     "output_type": "stream",
     "text": [
      "Accuracy: 0.83\n",
      "Classification Report:\n",
      "              precision    recall  f1-score   support\n",
      "\n",
      "     Failure       0.83      0.83      0.83    762649\n",
      " Maintenance       0.83      0.83      0.83    748193\n",
      "\n",
      "    accuracy                           0.83   1510842\n",
      "   macro avg       0.83      0.83      0.83   1510842\n",
      "weighted avg       0.83      0.83      0.83   1510842\n",
      "\n",
      "Confusion Matrix:\n",
      "[[634607 128042]\n",
      " [130153 618040]]\n"
     ]
    }
   ],
   "source": [
    "\n",
    "X = merged_data_encoded.drop(columns=['Target'])\n",
    "y = merged_data_encoded['Target']\n",
    "\n",
    "X_train, X_test, y_train, y_test = train_test_split(X, y, test_size=0.2, random_state=0)\n",
    "\n",
    "rf_classifier = RandomForestClassifier(n_estimators=60, random_state=0)\n",
    "rf_classifier.fit(X_train, y_train)\n",
    "\n",
    "y_pred = rf_classifier.predict(X_test)\n",
    "accuracy = accuracy_score(y_test, y_pred)\n",
    "classification_rep = classification_report(y_test, y_pred)\n",
    "confusion_mat = confusion_matrix(y_test, y_pred)\n",
    "\n",
    "print(f\"Accuracy: {accuracy:.2f}\")\n",
    "print(\"Classification Report:\")\n",
    "print(classification_rep)\n",
    "print(\"Confusion Matrix:\")\n",
    "print(confusion_mat)\n"
   ]
  },
  {
   "cell_type": "code",
   "execution_count": 7,
   "id": "32dc96f3",
   "metadata": {},
   "outputs": [
    {
     "name": "stdout",
     "output_type": "stream",
     "text": [
      "Cross-Validation Scores: [0.58094427 0.61929838 0.61013925 0.61008431 0.61212622]\n",
      "Mean Accuracy: 0.6065184843947945\n"
     ]
    }
   ],
   "source": [
    "from sklearn.model_selection import cross_val_score\n",
    "from sklearn.ensemble import RandomForestClassifier\n",
    "\n",
    "# Create your Random Forest Classifier with chosen hyperparameters\n",
    "rf_classifier = RandomForestClassifier(n_estimators=60, max_depth=7, random_state=0)\n",
    "\n",
    "# Perform cross-validation and get the scores\n",
    "scores = cross_val_score(rf_classifier, X, y, cv=5)  # You can adjust the number of folds (cv) as needed\n",
    "\n",
    "# Print the cross-validation scores\n",
    "print(\"Cross-Validation Scores:\", scores)\n",
    "print(\"Mean Accuracy:\", scores.mean())\n"
   ]
  },
  {
   "cell_type": "code",
   "execution_count": null,
   "id": "18063bb4",
   "metadata": {},
   "outputs": [],
   "source": []
  }
 ],
 "metadata": {
  "kernelspec": {
   "display_name": "Python 3 (ipykernel)",
   "language": "python",
   "name": "python3"
  },
  "language_info": {
   "codemirror_mode": {
    "name": "ipython",
    "version": 3
   },
   "file_extension": ".py",
   "mimetype": "text/x-python",
   "name": "python",
   "nbconvert_exporter": "python",
   "pygments_lexer": "ipython3",
   "version": "3.11.5"
  }
 },
 "nbformat": 4,
 "nbformat_minor": 5
}
